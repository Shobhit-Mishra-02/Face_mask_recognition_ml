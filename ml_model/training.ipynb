{
 "metadata": {
  "language_info": {
   "codemirror_mode": {
    "name": "ipython",
    "version": 3
   },
   "file_extension": ".py",
   "mimetype": "text/x-python",
   "name": "python",
   "nbconvert_exporter": "python",
   "pygments_lexer": "ipython3",
   "version": "3.8.7"
  },
  "orig_nbformat": 2,
  "kernelspec": {
   "name": "python3",
   "display_name": "Python 3.8.7 32-bit"
  },
  "metadata": {
   "interpreter": {
    "hash": "e922dd073470bdcc017ae3abd31d6491d6ed7bf31c1d559806e5511bfea88b81"
   }
  },
  "interpreter": {
   "hash": "e922dd073470bdcc017ae3abd31d6491d6ed7bf31c1d559806e5511bfea88b81"
  }
 },
 "nbformat": 4,
 "nbformat_minor": 2,
 "cells": [
  {
   "source": [
    "<h1>Training and selection of the model.</h1>"
   ],
   "cell_type": "markdown",
   "metadata": {}
  },
  {
   "cell_type": "code",
   "execution_count": 12,
   "metadata": {},
   "outputs": [],
   "source": [
    "import pandas as pd \n",
    "import numpy as np "
   ]
  },
  {
   "cell_type": "code",
   "execution_count": 11,
   "metadata": {},
   "outputs": [],
   "source": [
    "dataframe = pd.read_csv('data_2.csv')"
   ]
  },
  {
   "cell_type": "code",
   "execution_count": 13,
   "metadata": {},
   "outputs": [
    {
     "output_type": "execute_result",
     "data": {
      "text/plain": [
       "     0    1    2    3    4    5    6    7    8    9  ...  3591  3592  3593  \\\n",
       "0  224  224  224  219  219  219  240  238  238  229  ...   196   168    18   \n",
       "1   46   45   47   48   47   49   55   54   56   59  ...   154   170   195   \n",
       "2  248  244  248  249  242  245   50   44   35   48  ...   248   252   109   \n",
       "3  235  241  231  232  240  233  230  240  227  103  ...    56    83    84   \n",
       "4  167  169  170  156  166  169  129  141  153   55  ...    59    56    46   \n",
       "\n",
       "   3594  3595  3596  3597  3598  3599  target  \n",
       "0   233    37    46    42    47    44       0  \n",
       "1   195   164   159   152   146   138       0  \n",
       "2   157   198   214   210   252   251       0  \n",
       "3    89    90    14   234   242    55       0  \n",
       "4    12     0     9    15    19    22       0  \n",
       "\n",
       "[5 rows x 3601 columns]"
      ],
      "text/html": "<div>\n<style scoped>\n    .dataframe tbody tr th:only-of-type {\n        vertical-align: middle;\n    }\n\n    .dataframe tbody tr th {\n        vertical-align: top;\n    }\n\n    .dataframe thead th {\n        text-align: right;\n    }\n</style>\n<table border=\"1\" class=\"dataframe\">\n  <thead>\n    <tr style=\"text-align: right;\">\n      <th></th>\n      <th>0</th>\n      <th>1</th>\n      <th>2</th>\n      <th>3</th>\n      <th>4</th>\n      <th>5</th>\n      <th>6</th>\n      <th>7</th>\n      <th>8</th>\n      <th>9</th>\n      <th>...</th>\n      <th>3591</th>\n      <th>3592</th>\n      <th>3593</th>\n      <th>3594</th>\n      <th>3595</th>\n      <th>3596</th>\n      <th>3597</th>\n      <th>3598</th>\n      <th>3599</th>\n      <th>target</th>\n    </tr>\n  </thead>\n  <tbody>\n    <tr>\n      <th>0</th>\n      <td>224</td>\n      <td>224</td>\n      <td>224</td>\n      <td>219</td>\n      <td>219</td>\n      <td>219</td>\n      <td>240</td>\n      <td>238</td>\n      <td>238</td>\n      <td>229</td>\n      <td>...</td>\n      <td>196</td>\n      <td>168</td>\n      <td>18</td>\n      <td>233</td>\n      <td>37</td>\n      <td>46</td>\n      <td>42</td>\n      <td>47</td>\n      <td>44</td>\n      <td>0</td>\n    </tr>\n    <tr>\n      <th>1</th>\n      <td>46</td>\n      <td>45</td>\n      <td>47</td>\n      <td>48</td>\n      <td>47</td>\n      <td>49</td>\n      <td>55</td>\n      <td>54</td>\n      <td>56</td>\n      <td>59</td>\n      <td>...</td>\n      <td>154</td>\n      <td>170</td>\n      <td>195</td>\n      <td>195</td>\n      <td>164</td>\n      <td>159</td>\n      <td>152</td>\n      <td>146</td>\n      <td>138</td>\n      <td>0</td>\n    </tr>\n    <tr>\n      <th>2</th>\n      <td>248</td>\n      <td>244</td>\n      <td>248</td>\n      <td>249</td>\n      <td>242</td>\n      <td>245</td>\n      <td>50</td>\n      <td>44</td>\n      <td>35</td>\n      <td>48</td>\n      <td>...</td>\n      <td>248</td>\n      <td>252</td>\n      <td>109</td>\n      <td>157</td>\n      <td>198</td>\n      <td>214</td>\n      <td>210</td>\n      <td>252</td>\n      <td>251</td>\n      <td>0</td>\n    </tr>\n    <tr>\n      <th>3</th>\n      <td>235</td>\n      <td>241</td>\n      <td>231</td>\n      <td>232</td>\n      <td>240</td>\n      <td>233</td>\n      <td>230</td>\n      <td>240</td>\n      <td>227</td>\n      <td>103</td>\n      <td>...</td>\n      <td>56</td>\n      <td>83</td>\n      <td>84</td>\n      <td>89</td>\n      <td>90</td>\n      <td>14</td>\n      <td>234</td>\n      <td>242</td>\n      <td>55</td>\n      <td>0</td>\n    </tr>\n    <tr>\n      <th>4</th>\n      <td>167</td>\n      <td>169</td>\n      <td>170</td>\n      <td>156</td>\n      <td>166</td>\n      <td>169</td>\n      <td>129</td>\n      <td>141</td>\n      <td>153</td>\n      <td>55</td>\n      <td>...</td>\n      <td>59</td>\n      <td>56</td>\n      <td>46</td>\n      <td>12</td>\n      <td>0</td>\n      <td>9</td>\n      <td>15</td>\n      <td>19</td>\n      <td>22</td>\n      <td>0</td>\n    </tr>\n  </tbody>\n</table>\n<p>5 rows × 3601 columns</p>\n</div>"
     },
     "metadata": {},
     "execution_count": 13
    }
   ],
   "source": [
    "dataframe.head()"
   ]
  },
  {
   "source": [
    "<h2>Splitting the training and test set</h2>"
   ],
   "cell_type": "markdown",
   "metadata": {}
  },
  {
   "cell_type": "code",
   "execution_count": 14,
   "metadata": {},
   "outputs": [],
   "source": [
    "from sklearn.model_selection import train_test_split\n",
    "train_f, test_f, train_lb,test_lb = train_test_split(dataframe.drop('target', axis=1), dataframe['target'] ,test_size=0.2 , stratify=dataframe['target'])"
   ]
  },
  {
   "cell_type": "code",
   "execution_count": 15,
   "metadata": {},
   "outputs": [
    {
     "output_type": "execute_result",
     "data": {
      "text/plain": [
       "0    406\n",
       "1    406\n",
       "Name: target, dtype: int64"
      ]
     },
     "metadata": {},
     "execution_count": 15
    }
   ],
   "source": [
    "train_lb.value_counts()"
   ]
  },
  {
   "cell_type": "code",
   "execution_count": 16,
   "metadata": {},
   "outputs": [
    {
     "output_type": "execute_result",
     "data": {
      "text/plain": [
       "1    102\n",
       "0    101\n",
       "Name: target, dtype: int64"
      ]
     },
     "metadata": {},
     "execution_count": 16
    }
   ],
   "source": [
    "test_lb.value_counts()"
   ]
  },
  {
   "source": [
    "<h2>Selecting the model</h2>"
   ],
   "cell_type": "markdown",
   "metadata": {}
  },
  {
   "cell_type": "code",
   "execution_count": 17,
   "metadata": {},
   "outputs": [
    {
     "output_type": "execute_result",
     "data": {
      "text/plain": [
       "SVC(C=10, decision_function_shape='ovo', kernel='poly')"
      ]
     },
     "metadata": {},
     "execution_count": 17
    }
   ],
   "source": [
    "# from sklearn.linear_model import LogisticRegression\n",
    "from sklearn.svm import SVC\n",
    "# from sklearn.ensemble import RandomForestClassifier\n",
    "# from sklearn.tree import DecisionTreeClassifier\n",
    "# from sklearn.naive_bayes import GaussianNB\n",
    "# from sklearn.naive_bayes import BernoulliNB\n",
    "\n",
    "\n",
    "# model = LogisticRegression()\n",
    "model = SVC(C= 10, decision_function_shape= 'ovo', gamma= 'scale', kernel= 'poly')\n",
    "# model = RandomForestClassifier()\n",
    "# model = GaussianNB()\n",
    "# model = BernoulliNB()\n",
    "model.fit(train_f, train_lb)"
   ]
  },
  {
   "cell_type": "code",
   "execution_count": 18,
   "metadata": {},
   "outputs": [
    {
     "output_type": "execute_result",
     "data": {
      "text/plain": [
       "1.0"
      ]
     },
     "metadata": {},
     "execution_count": 18
    }
   ],
   "source": [
    "model.score(train_f, train_lb)"
   ]
  },
  {
   "cell_type": "code",
   "execution_count": 19,
   "metadata": {},
   "outputs": [
    {
     "output_type": "execute_result",
     "data": {
      "text/plain": [
       "0.9689636346323329"
      ]
     },
     "metadata": {},
     "execution_count": 19
    }
   ],
   "source": [
    "from sklearn.model_selection import cross_val_score\n",
    "cross_val_score(model, train_f, train_lb, scoring='f1', cv=6).mean()"
   ]
  },
  {
   "cell_type": "code",
   "execution_count": 10,
   "metadata": {},
   "outputs": [],
   "source": [
    "# from sklearn.model_selection import GridSearchCV\n",
    "# score = GridSearchCV(model, param_grid={\n",
    "#     'penalty':['l1', 'l2', 'elasticnet', 'none'],\n",
    "#     'C':[10,20,30,40],\n",
    "#     'class_weight': ['dict','balaced'],\n",
    "#     'solver':['newton-cg', 'lbfgs', 'liblinear', 'sag', 'saga'],\n",
    "#     'multi_class':['auto', 'ovr', 'multinomial'],\n",
    "#     'max_iter':[100,150,200],\n",
    "#     'warm_start':[True, False]\n",
    "# }, cv=5)"
   ]
  },
  {
   "cell_type": "code",
   "execution_count": 11,
   "metadata": {},
   "outputs": [],
   "source": [
    "# score.fit(train_f, train_lb)"
   ]
  },
  {
   "cell_type": "code",
   "execution_count": 12,
   "metadata": {},
   "outputs": [],
   "source": [
    "# score.best_params_"
   ]
  },
  {
   "cell_type": "code",
   "execution_count": 13,
   "metadata": {},
   "outputs": [],
   "source": [
    "# score.best_score_"
   ]
  },
  {
   "source": [
    "<h2>Testing the selected model</h2>"
   ],
   "cell_type": "markdown",
   "metadata": {}
  },
  {
   "cell_type": "code",
   "execution_count": 14,
   "metadata": {},
   "outputs": [],
   "source": [
    "# model.predict(test_f)"
   ]
  },
  {
   "cell_type": "code",
   "execution_count": 15,
   "metadata": {},
   "outputs": [],
   "source": [
    "# from sklearn.metrics import plot_confusion_matrix\n",
    "# plot_confusion_matrix(model, test_f, test_lb)"
   ]
  },
  {
   "cell_type": "code",
   "execution_count": 16,
   "metadata": {},
   "outputs": [],
   "source": [
    "# dump(model,'SVM_2.joblib')"
   ]
  },
  {
   "cell_type": "code",
   "execution_count": 10,
   "metadata": {},
   "outputs": [
    {
     "output_type": "execute_result",
     "data": {
      "text/plain": [
       "['SVM_black.joblib']"
      ]
     },
     "metadata": {},
     "execution_count": 10
    }
   ],
   "source": [
    "from joblib import load , dump\n",
    "dump(model,'SVM_black.joblib')\n"
   ]
  },
  {
   "cell_type": "code",
   "execution_count": null,
   "metadata": {},
   "outputs": [],
   "source": []
  }
 ]
}